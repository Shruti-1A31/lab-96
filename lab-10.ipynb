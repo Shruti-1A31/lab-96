{
 "cells": [
  {
   "cell_type": "code",
   "execution_count": 1,
   "id": "221474b1",
   "metadata": {
    "_cell_guid": "b1076dfc-b9ad-4769-8c92-a6c4dae69d19",
    "_uuid": "8f2839f25d086af736a60e9eeb907d3b93b6e0e5",
    "execution": {
     "iopub.execute_input": "2023-10-16T09:47:09.895127Z",
     "iopub.status.busy": "2023-10-16T09:47:09.894501Z",
     "iopub.status.idle": "2023-10-16T09:47:10.443026Z",
     "shell.execute_reply": "2023-10-16T09:47:10.441561Z"
    },
    "papermill": {
     "duration": 0.558333,
     "end_time": "2023-10-16T09:47:10.447055",
     "exception": false,
     "start_time": "2023-10-16T09:47:09.888722",
     "status": "completed"
    },
    "tags": []
   },
   "outputs": [
    {
     "name": "stdout",
     "output_type": "stream",
     "text": [
      "   rollno sname  sem  department grade\n",
      "0      11   ram    5    computer    AA\n",
      "1      12  siya    2       civil    AB\n",
      "2      13   nan    6  electrical    BB\n",
      "3      14   jay    1    computer    CC\n",
      "4      15   dev    6       civil    DD\n",
      "5      11   ram    5    computer    AA\n",
      "\n",
      "Missing values:\n",
      "    rollno  sname    sem  department  grade\n",
      "0   False  False  False       False  False\n",
      "1   False  False  False       False  False\n",
      "2   False   True  False       False  False\n",
      "3   False  False  False       False  False\n",
      "4   False  False  False       False  False\n",
      "5   False  False  False       False  False\n",
      "\n",
      "Dropping the missing values:\n",
      "    rollno sname  sem department grade\n",
      "0      11   ram    5   computer    AA\n",
      "1      12  siya    2      civil    AB\n",
      "3      14   jay    1   computer    CC\n",
      "4      15   dev    6      civil    DD\n",
      "5      11   ram    5   computer    AA\n"
     ]
    }
   ],
   "source": [
    "''' Rathod Shruti A.\n",
    "     216270307096    '''\n",
    "\n",
    "'''Write a Pandas program to implement following operation to find and drop the missing values from the given \n",
    "dataset'''\n",
    "\n",
    "import pandas as pd\n",
    "\n",
    "df = pd.DataFrame({'rollno': [11,12,13,14,15,11], 'sname': ['ram','siya','nan','jay','dev','ram'], 'sem':[5,2,6,1,6,5], 'department':['computer','civil','electrical','computer','civil','computer'], 'grade':['AA','AB', 'BB', 'CC', 'DD','AA']})\n",
    "\n",
    "print(df)\n",
    "\n",
    "file_path = \"student_dataset.csv\"\n",
    "\n",
    "df.to_csv(file_path, index=False, sep=\",\")\n",
    "\n",
    "df2 = pd.read_csv('/kaggle/working/student_dataset.csv')\n",
    "\n",
    "print(\"\\nMissing values:\\n\",df2.isnull())\n",
    "\n",
    "print(\"\\nDropping the missing values:\\n\",df2.dropna())"
   ]
  },
  {
   "cell_type": "code",
   "execution_count": 2,
   "id": "b6e7fc93",
   "metadata": {
    "execution": {
     "iopub.execute_input": "2023-10-16T09:47:10.458752Z",
     "iopub.status.busy": "2023-10-16T09:47:10.457176Z",
     "iopub.status.idle": "2023-10-16T09:47:10.488894Z",
     "shell.execute_reply": "2023-10-16T09:47:10.486977Z"
    },
    "papermill": {
     "duration": 0.042724,
     "end_time": "2023-10-16T09:47:10.492441",
     "exception": false,
     "start_time": "2023-10-16T09:47:10.449717",
     "status": "completed"
    },
    "tags": []
   },
   "outputs": [
    {
     "name": "stdout",
     "output_type": "stream",
     "text": [
      "\n",
      "\n",
      "    rollno sname  sem  department grade\n",
      "0      11   ram    5    computer    AA\n",
      "1      12  siya    2       civil    AB\n",
      "2      13   NaN    6  electrical    BB\n",
      "3      14   jay    1    computer    CC\n",
      "4      15   dev    6       civil    DD\n",
      "5      11   ram    5    computer    AA\n",
      "\n",
      "Remove the duplicates dataset: \n",
      "    rollno sname  sem  department grade\n",
      "0      11   ram    5    computer    AA\n",
      "1      12  siya    2       civil    AB\n",
      "2      13   NaN    6  electrical    BB\n",
      "3      14   jay    1    computer    CC\n",
      "4      15   dev    6       civil    DD\n"
     ]
    }
   ],
   "source": [
    "''' Rathod Shruti A.\n",
    "     216270307096    '''\n",
    "\n",
    "'''Write a Pandas program to implement following operation to remove the duplicates from the given dataset'''\n",
    "\n",
    "df_1 = pd.read_csv('/kaggle/working/student_dataset.csv')\n",
    "\n",
    "print(\"\\n\\n\",df_1)\n",
    "\n",
    "df_2 = df_1.drop_duplicates()\n",
    "\n",
    "print(\"\\nRemove the duplicates dataset: \\n\",df_2)"
   ]
  }
 ],
 "metadata": {
  "kernelspec": {
   "display_name": "Python 3",
   "language": "python",
   "name": "python3"
  },
  "language_info": {
   "codemirror_mode": {
    "name": "ipython",
    "version": 3
   },
   "file_extension": ".py",
   "mimetype": "text/x-python",
   "name": "python",
   "nbconvert_exporter": "python",
   "pygments_lexer": "ipython3",
   "version": "3.10.12"
  },
  "papermill": {
   "default_parameters": {},
   "duration": 5.12631,
   "end_time": "2023-10-16T09:47:11.219187",
   "environment_variables": {},
   "exception": null,
   "input_path": "__notebook__.ipynb",
   "output_path": "__notebook__.ipynb",
   "parameters": {},
   "start_time": "2023-10-16T09:47:06.092877",
   "version": "2.4.0"
  }
 },
 "nbformat": 4,
 "nbformat_minor": 5
}

{
 "cells": [
  {
   "cell_type": "code",
   "execution_count": 1,
   "id": "1356af77",
   "metadata": {
    "execution": {
     "iopub.execute_input": "2023-11-06T16:29:23.385642Z",
     "iopub.status.busy": "2023-11-06T16:29:23.385057Z",
     "iopub.status.idle": "2023-11-06T16:29:25.392705Z",
     "shell.execute_reply": "2023-11-06T16:29:25.391442Z"
    },
    "papermill": {
     "duration": 2.015341,
     "end_time": "2023-11-06T16:29:25.395642",
     "exception": false,
     "start_time": "2023-11-06T16:29:23.380301",
     "status": "completed"
    },
    "tags": []
   },
   "outputs": [
    {
     "name": "stdout",
     "output_type": "stream",
     "text": [
      "Accuracy of the K-NN classifier with k=3: 100.00%\n"
     ]
    }
   ],
   "source": [
    "''' Rathod Ahruti A.\n",
    "     216270307096   '''\n",
    "\n",
    "'''Write a Python program to implement K-Nearest Neighbour supervised machine learning algorithm for given dataset. '''\n",
    "    \n",
    "from sklearn import datasets\n",
    "from sklearn.model_selection import train_test_split\n",
    "from sklearn.neighbors import KNeighborsClassifier\n",
    "from sklearn.metrics import accuracy_score\n",
    "\n",
    "# Load and preprocess the dataset.   Let's use the Iris dataset as an example\n",
    "iris = datasets.load_iris()\n",
    "X = iris.data  # Features\n",
    "y = iris.target  # Target labels\n",
    "\n",
    "#  Split the dataset into training and testing sets\n",
    "X_train, X_test, y_train, y_test = train_test_split(X, y, test_size=0.2, random_state=42)\n",
    "\n",
    "#  Create and train the K-NN classifier\n",
    "k = 3  # You can adjust the value of k as needed\n",
    "knn_classifier = KNeighborsClassifier(n_neighbors=k)\n",
    "knn_classifier.fit(X_train, y_train)\n",
    "\n",
    "#  Make predictions on the test data\n",
    "y_pred = knn_classifier.predict(X_test)\n",
    "\n",
    "# Evaluate the model's performance\n",
    "accuracy = accuracy_score(y_test, y_pred)\n",
    "print(f\"Accuracy of the K-NN classifier with k={k}: {accuracy * 100:.2f}%\")\n"
   ]
  }
 ],
 "metadata": {
  "kernelspec": {
   "display_name": "Python 3",
   "language": "python",
   "name": "python3"
  },
  "language_info": {
   "codemirror_mode": {
    "name": "ipython",
    "version": 3
   },
   "file_extension": ".py",
   "mimetype": "text/x-python",
   "name": "python",
   "nbconvert_exporter": "python",
   "pygments_lexer": "ipython3",
   "version": "3.10.12"
  },
  "papermill": {
   "default_parameters": {},
   "duration": 6.860612,
   "end_time": "2023-11-06T16:29:26.122509",
   "environment_variables": {},
   "exception": null,
   "input_path": "__notebook__.ipynb",
   "output_path": "__notebook__.ipynb",
   "parameters": {},
   "start_time": "2023-11-06T16:29:19.261897",
   "version": "2.4.0"
  }
 },
 "nbformat": 4,
 "nbformat_minor": 5
}
